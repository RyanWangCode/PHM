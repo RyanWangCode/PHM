{
 "cells": [
  {
   "cell_type": "code",
   "execution_count": 2,
   "metadata": {
    "collapsed": false
   },
   "outputs": [
    {
     "name": "stdout",
     "output_type": "stream",
     "text": [
      "d:\\0python\\phm\\phm2017\n"
     ]
    }
   ],
   "source": [
    "cd d:\\0python\\phm\\phm2017"
   ]
  },
  {
   "cell_type": "code",
   "execution_count": 3,
   "metadata": {
    "collapsed": false
   },
   "outputs": [
    {
     "name": "stdout",
     "output_type": "stream",
     "text": [
      " 驱动器 D 中的卷是 DATA\n",
      " 卷的序列号是 561E-75BB\n",
      "\n",
      " d:\\0python\\phm\\phm2017 的目录\n",
      "\n",
      "2018/04/26  22:26    <DIR>          .\n",
      "2018/04/26  22:26    <DIR>          ..\n",
      "2018/04/22  07:48             8,341 conInterval.py\n",
      "2018/04/26  22:26            13,080 predictFaultyRegimes.py\n",
      "2018/04/22  08:07           109,017 regression_wLegend.png\n",
      "2017/05/19  21:41               117 Sample-Predictions.csv\n",
      "2018/04/17  08:16    <DIR>          testing\n",
      "2017/05/20  22:14             3,688 testing.csv\n",
      "2018/04/17  08:16    <DIR>          training\n",
      "2017/05/20  22:09             4,864 training.csv\n",
      "               6 个文件        139,107 字节\n",
      "               4 个目录 112,537,137,152 可用字节\n"
     ]
    }
   ],
   "source": [
    "ls"
   ]
  },
  {
   "cell_type": "markdown",
   "metadata": {},
   "source": [
    "## 导入包 定义函数"
   ]
  },
  {
   "cell_type": "code",
   "execution_count": 4,
   "metadata": {
    "collapsed": true
   },
   "outputs": [],
   "source": [
    "import pandas as pd\n",
    "import numpy as np\n",
    "import matplotlib.pyplot as plt\n",
    "import scipy.stats as stats\n",
    "from sklearn.linear_model import LinearRegression\n",
    "from sklearn.cluster import KMeans"
   ]
  },
  {
   "cell_type": "code",
   "execution_count": 199,
   "metadata": {
    "collapsed": true
   },
   "outputs": [],
   "source": [
    "# 特征处理\n",
    "def fetProcess(Arr):\n",
    "    outArr = np.zeros(155)\n",
    "    posArr = []\n",
    "    for i in range(5):\n",
    "        outArr[0 + i] = Arr[0 + i] / Arr[5 + i]; posArr.append([0, 4])\n",
    "        outArr[5 + i] = Arr[0 + i] / Arr[10 + i]; posArr.append([1, 5])\n",
    "        outArr[10 + i] = Arr[0 + i] / Arr[15 + i]; posArr.append([0, 6])\n",
    "        outArr[15 + i] = Arr[0 + i] / Arr[20 + i]; posArr.append([1, 7])\n",
    "        outArr[20 + i] = Arr[45 + i] / Arr[50 + i]; posArr.append([2, 8])\n",
    "        outArr[25 + i] = Arr[45 + i] / Arr[55 + i]; posArr.append([3, 9])\n",
    "        outArr[30 + i] = Arr[45 + i] / Arr[60 + i]; posArr.append([2, 10])\n",
    "        outArr[35 + i] = Arr[45 + i] / Arr[65 + i]; posArr.append([3, 11])\n",
    "        outArr[40 + i] = Arr[5 + i] / Arr[25 + i]; posArr.append(4)\n",
    "        outArr[45 + i] = Arr[10 + i] / Arr[30 + i]; posArr.append(5)\n",
    "        outArr[50 + i] = Arr[15 + i] / Arr[35 + i]; posArr.append(6)\n",
    "        outArr[55 + i] = Arr[20 + i] / Arr[40 + i]; posArr.append(7)\n",
    "        outArr[60 + i] = Arr[50 + i] / Arr[70 + i]; posArr.append(8)\n",
    "        outArr[65 + i] = Arr[55 + i] / Arr[75 + i]; posArr.append(9)\n",
    "        outArr[70 + i] = Arr[60 + i] / Arr[80 + i]; posArr.append(10)\n",
    "        outArr[75 + i] = Arr[65 + i] / Arr[85 + i]; posArr.append(11)\n",
    "        outArr[80 + i] = Arr[10 + i] / Arr[50 + i]; posArr.append([4, 8])\n",
    "        outArr[85 + i] = Arr[15 + i] / Arr[55 + i]; posArr.append([5, 9])\n",
    "        outArr[90 + i] = Arr[20 + i] / Arr[60 + i]; posArr.append([6, 10])\n",
    "        outArr[95 + i] = Arr[25 + i] / Arr[65 + i]; posArr.append([7, 11])\n",
    "        outArr[100 + i] = Arr[0 + i] / Arr[45 + i]; posArr.append([0, 1, 2, 3])\n",
    "        outArr[105 + i] = Arr[0 + i]; posArr.append([0, 1])\n",
    "        outArr[110 + i] = Arr[45 + i]; posArr.append([2, 3])\n",
    "        outArr[115 + i] = Arr[5 + i]; posArr.append(4)\n",
    "        outArr[120 + i] = Arr[10 + i]; posArr.append(5)\n",
    "        outArr[125 + i] = Arr[15 + i]; posArr.append(6)\n",
    "        outArr[130 + i] = Arr[20 + i]; posArr.append(7)\n",
    "        outArr[135 + i] = Arr[50 + i]; posArr.append(8)\n",
    "        outArr[140 + i] = Arr[55 + i]; posArr.append(9)\n",
    "        outArr[145 + i] = Arr[60 + i]; posArr.append(10)\n",
    "        outArr[150 + i] = Arr[65 + i]; posArr.append(11)\n",
    "    return outArr, posArr"
   ]
  },
  {
   "cell_type": "code",
   "execution_count": 200,
   "metadata": {
    "collapsed": true
   },
   "outputs": [],
   "source": [
    "# 计算余弦相似度\n",
    "def corr(Vec1, Vec2):\n",
    "    num = np.dot(Vec1, Vec2)\n",
    "    den = np.linalg.norm(Vec1) * np.linalg.norm(Vec2)\n",
    "    corrOut = num / den\n",
    "    return corrOut"
   ]
  },
  {
   "cell_type": "code",
   "execution_count": 796,
   "metadata": {
    "collapsed": true
   },
   "outputs": [],
   "source": [
    "# 寻找与指定测试集试验最匹配的训练集试验序号\n",
    "def findNNE(Con1, Con2):\n",
    "    NNE = np.zeros(200)\n",
    "    Dis = np.zeros(200)\n",
    "    for i in range(200):\n",
    "        Dis0 = Con1 - Con2[i]\n",
    "        for j in range(200):\n",
    "            Dis[j] = np.linalg.norm(Dis0[j])\n",
    "        NNE[i] = Dis.argmin()\n",
    "    return NNE"
   ]
  },
  {
   "cell_type": "code",
   "execution_count": 379,
   "metadata": {
    "collapsed": true
   },
   "outputs": [],
   "source": [
    "# 构建训练集\n",
    "def buildDataSets(speed, trim):\n",
    "    condAtSpeed = conditionTraining[conditionTraining['Speed'] == speed]\n",
    "    payAtSpeed = []\n",
    "    dataAtSpeed = []\n",
    "    for i in condAtSpeed.index:\n",
    "        if conditionTraining.loc[i]['Payload'] not in payAtSpeed:\n",
    "            payAtSpeed.append(conditionTraining.loc[i]['Payload'])\n",
    "            dataAtSpeed.append(dataTraining[i][int(trim):int(trim) + 50])\n",
    "        else:\n",
    "            equalIdx = payAtSpeed.index(conditionTraining.loc[i]['Payload'])\n",
    "            dataAtSpeed[equalIdx] = dataAtSpeed[equalIdx].append(dataTraining[i][int(trim):int(trim) + 50])\n",
    "    n = len(dataAtSpeed)\n",
    "    outArr = np.zeros([n, 90])\n",
    "    for i in range(n):\n",
    "        outArr[i] = np.median(dataAtSpeed[i], 0)\n",
    "    return outArr, payAtSpeed"
   ]
  },
  {
   "cell_type": "code",
   "execution_count": 797,
   "metadata": {
    "collapsed": true
   },
   "outputs": [],
   "source": [
    "# 对于training试验中没有的速度，插值构造训练集\n",
    "def interDataSets(speed, trim):\n",
    "    outArr = np.zeros([len(list2), 90])\n",
    "    for p in range(len(list2)):\n",
    "        tempDf = Track2[Track2['Payload'] == list2[p]]\n",
    "        idx087 = tempDf[tempDf['Speed'] == 0.87].index\n",
    "        idx094 = tempDf[tempDf['Speed'] == 0.94].index\n",
    "        tempArr0 = np.zeros([1, 90])\n",
    "        tempArr1 = np.zeros([1, 90])\n",
    "        for j in range(int(countArr[p][0])):\n",
    "            tempArr = dataTraining[idx087[j]][int(trim):int(trim) + 50]\n",
    "            tempSum = np.median(tempArr, 0)\n",
    "            tempArr0 += tempSum\n",
    "        tempArr0 = tempArr0 / int(countArr[p][0])\n",
    "        for j in range(int(countArr[p][1])):\n",
    "            tempArr = dataTraining[idx094[j]][int(trim):int(trim) + 50]\n",
    "            tempSum = np.median(tempArr, 0)\n",
    "            tempArr1 += tempSum\n",
    "        tempArr1 = tempArr1 / int(countArr[p][1])\n",
    "        interArr = (speed - 0.87) * (tempArr0 - tempArr1) / (0.87 - 0.94) + tempArr1\n",
    "        outArr[p] = interArr\n",
    "    return outArr"
   ]
  },
  {
   "cell_type": "markdown",
   "metadata": {},
   "source": [
    "## 导入数据"
   ]
  },
  {
   "cell_type": "code",
   "execution_count": 240,
   "metadata": {
    "collapsed": false
   },
   "outputs": [],
   "source": [
    "# 数据导入\n",
    "dataTraining = []\n",
    "dataMedian = np.zeros([200, 90])\n",
    "dataTesting = []\n",
    "dataMedianTesting = np.zeros([200, 90])\n",
    "conditionTraining = pd.read_csv('training.csv')\n",
    "conditionTesting = pd.read_csv('testing.csv')"
   ]
  },
  {
   "cell_type": "code",
   "execution_count": 252,
   "metadata": {
    "collapsed": true
   },
   "outputs": [],
   "source": [
    "for i in range(1,201):\n",
    "    dataTraining.append(pd.read_csv('training/Experiment-%i.csv' % i))\n",
    "    dataTesting.append(pd.read_csv('testing/Experiment-%i.csv' % i))\n",
    "    dataMedian[i-1] = np.median(dataTraining[i-1], 0)\n",
    "    dataMedianTesting[i-1] = np.median(dataTesting[i-1], 0)"
   ]
  },
  {
   "cell_type": "markdown",
   "metadata": {},
   "source": [
    "## 数据分析"
   ]
  },
  {
   "cell_type": "code",
   "execution_count": 8,
   "metadata": {
    "collapsed": false
   },
   "outputs": [
    {
     "data": {
      "text/plain": [
       "{0.87, 0.94, 1.02, 1.1, 1.18, 1.26}"
      ]
     },
     "execution_count": 8,
     "metadata": {},
     "output_type": "execute_result"
    }
   ],
   "source": [
    "set(conditionTraining['Speed'])"
   ]
  },
  {
   "cell_type": "code",
   "execution_count": 9,
   "metadata": {
    "collapsed": false
   },
   "outputs": [],
   "source": [
    "condS126 = conditionTraining[conditionTraining['Speed'] == 1.26]\n",
    "condS118 = conditionTraining[conditionTraining['Speed'] == 1.18]\n",
    "condS110 = conditionTraining[conditionTraining['Speed'] == 1.10]\n",
    "condS102 = conditionTraining[conditionTraining['Speed'] == 1.02]\n",
    "condS094 = conditionTraining[conditionTraining['Speed'] == 0.94]\n",
    "condS087 = conditionTraining[conditionTraining['Speed'] == 0.87]"
   ]
  },
  {
   "cell_type": "code",
   "execution_count": 11,
   "metadata": {
    "collapsed": false
   },
   "outputs": [],
   "source": [
    "payloadS126 = []\n",
    "dataS126 = []\n",
    "for i in condS126.index:\n",
    "    if conditionTraining.loc[i]['Payload'] not in payloadS126:\n",
    "        payloadS126.append(conditionTraining.loc[i]['Payload'])\n",
    "        dataS126.append(dataTraining[i])\n",
    "    else:\n",
    "        equalIdx = payloadS126.index(conditionTraining.loc[i]['Payload'])\n",
    "        dataS126[equalIdx] = dataS126[equalIdx].append(dataTraining[i])"
   ]
  },
  {
   "cell_type": "code",
   "execution_count": 12,
   "metadata": {
    "collapsed": false
   },
   "outputs": [],
   "source": [
    "payloadS102 = []\n",
    "dataS102 = []\n",
    "for i in condS102.index:\n",
    "    if conditionTraining.loc[i]['Payload'] not in payloadS102:\n",
    "        payloadS102.append(conditionTraining.loc[i]['Payload'])\n",
    "        dataS102.append(dataTraining[i])\n",
    "    else:\n",
    "        equalIdx = payloadS102.index(conditionTraining.loc[i]['Payload'])\n",
    "        dataS102[equalIdx] = dataS102[equalIdx].append(dataTraining[i])"
   ]
  },
  {
   "cell_type": "code",
   "execution_count": 795,
   "metadata": {
    "collapsed": false,
    "scrolled": true
   },
   "outputs": [
    {
     "data": {
      "image/png": "[encoded data removed]",
      "text/plain": [
       "<matplotlib.figure.Figure at 0x230088713c8>"
      ]
     },
     "metadata": {},
     "output_type": "display_data"
    }
   ],
   "source": [
    "# 速度为1.26条件下的特征随负载变化情况分析\n",
    "dataPlot0 = []\n",
    "n = len(dataS126)\n",
    "for i in range(n):\n",
    "    dataPlot0.append(dataS126[i]['f_105'] / dataS126[i]['f_110'])\n",
    "payloadS126 = np.array(payloadS126)\n",
    "payIdx = payloadS126.argsort()\n",
    "dataPlot = []\n",
    "for i in range(n):\n",
    "    dataPlot.append(dataPlot0[payIdx[i]])\n",
    "plt.boxplot(dataPlot, labels=payloadS126[payIdx])\n",
    "plt.xlabel('payload')\n",
    "plt.ylabel('acc ratio')\n",
    "plt.show()"
   ]
  },
  {
   "cell_type": "code",
   "execution_count": 794,
   "metadata": {
    "collapsed": false
   },
   "outputs": [
    {
     "data": {
      "image/png": "[encoded data removed]",
      "text/plain": [
       "<matplotlib.figure.Figure at 0x23008c6a358>"
      ]
     },
     "metadata": {},
     "output_type": "display_data"
    }
   ],
   "source": [
    "# 速度为1.26条件下的特征随负载变化情况分析\n",
    "dataPlot0 = []\n",
    "n = len(dataS102)\n",
    "for i in range(n):\n",
    "    dataPlot0.append(dataS102[i]['f_105'] / dataS102[i]['f_110'])\n",
    "payloadS102 = np.array(payloadS102)\n",
    "payIdx = payloadS102.argsort()\n",
    "dataPlot = []\n",
    "for i in range(n):\n",
    "    dataPlot.append(dataPlot0[payIdx[i]])\n",
    "plt.boxplot(dataPlot, labels=payloadS102[payIdx])\n",
    "plt.xlabel('payload')\n",
    "plt.ylabel('acc ratio')\n",
    "plt.show()"
   ]
  },
  {
   "cell_type": "markdown",
   "metadata": {},
   "source": [
    "## 轨道切分"
   ]
  },
  {
   "cell_type": "code",
   "execution_count": 788,
   "metadata": {
    "collapsed": false
   },
   "outputs": [],
   "source": [
    "# 寻找最匹配training试验\n",
    "nneArr = findNNE(np.array(conditionTraining[['Payload', 'Speed', 'Track']]), np.array(conditionTesting[['Payload', 'Speed', 'Track']]))"
   ]
  },
  {
   "cell_type": "code",
   "execution_count": 187,
   "metadata": {
    "collapsed": false
   },
   "outputs": [],
   "source": [
    "# 根据相似度计算最佳切分位置\n",
    "bestTrim = np.zeros(200)\n",
    "for i in range(200):\n",
    "#     bestCorr = 0\n",
    "    tempArr = np.array(dataTraining[int(nneArr[i])][['f_127', 'f_128', 'f_129', 'f_130']])\n",
    "    tempTestArr = np.array(dataTesting[i][['f_127', 'f_128', 'f_129', 'f_130']])\n",
    "    cor = np.zeros([len(tempArr) - 49, 4])\n",
    "    for j in range(4):\n",
    "        for t in range(len(tempArr) - 49):\n",
    "            cor[t, j] = corr(tempArr[t: t+50, j], tempTestArr[:, j])\n",
    "    corMean = np.mean(cor, 1)\n",
    "#         if cor > bestCorr:\n",
    "#     bestCorr = cor\n",
    "    bestTrim[i] = corMean.argmax()"
   ]
  },
  {
   "cell_type": "code",
   "execution_count": 787,
   "metadata": {
    "collapsed": false
   },
   "outputs": [
    {
     "data": {
      "image/png": "[encoded data removed]",
      "text/plain": [
       "<matplotlib.figure.Figure at 0x23008b87dd8>"
      ]
     },
     "metadata": {},
     "output_type": "display_data"
    }
   ],
   "source": [
    "# 切分结果实例：第一组测试试验数据与最匹配的训练集数据的轨道切分结果\n",
    "plt.plot(np.arange(388), dataTraining[int(nneArr[0])].loc[:, ['f_128']], label= 'train')\n",
    "plt.plot(np.arange(50) + bestTrim[0], dataTesting[0].loc[:, ['f_128']], label= 'test')\n",
    "plt.legend()\n",
    "plt.xlabel('time')\n",
    "plt.ylabel('acc')\n",
    "plt.title('test1 vs nearest trainging data')\n",
    "plt.show()"
   ]
  },
  {
   "cell_type": "markdown",
   "metadata": {},
   "source": [
    "## 构建训练集并进行机器学习"
   ]
  },
  {
   "cell_type": "code",
   "execution_count": 433,
   "metadata": {
    "collapsed": false
   },
   "outputs": [],
   "source": [
    "Track2 = conditionTraining[conditionTraining['Track'] == 2]\n",
    "# inter1 = Track1[Track1['Speed'] == 0.87 | Track1['Speed'] == 0.94]\n",
    "# inter1\n",
    "list1 = list(set(Track2['Payload']))\n",
    "list2 = []\n",
    "for i in range(len(list1)):\n",
    "    if len(set(Track2[Track2['Payload'] == list1[i]]['Speed'])) == 2:\n",
    "        list2.append(list1[i])\n",
    "countArr = np.zeros([len(list2), 2])\n",
    "for i in range(len(list2)):\n",
    "    countArr[i][0] = sum(Track2[Track2['Payload'] == list2[i]]['Speed'] == 0.87)\n",
    "    countArr[i][1] = sum(Track2[Track2['Payload'] == list2[i]]['Speed'] == 0.94)"
   ]
  },
  {
   "cell_type": "code",
   "execution_count": 754,
   "metadata": {
    "collapsed": false
   },
   "outputs": [],
   "source": [
    "XTrainList = []\n",
    "loadTraingList = []\n",
    "for i in range(200):\n",
    "    speed = conditionTraining['Speed'][int(nneArr[i])]\n",
    "    trim = bestTrim[i]\n",
    "    if speed > 0.8:\n",
    "        XTrain,loadList = buildDataSets(speed=speed, trim=trim)\n",
    "    else:\n",
    "        speed = conditionTesting['Speed'][i]\n",
    "        XTrain = interDataSets(speed=speed, trim=trim)\n",
    "        loadList = list2\n",
    "    XTrainList.append(XTrain)\n",
    "    loadTraingList.append(loadList)"
   ]
  },
  {
   "cell_type": "code",
   "execution_count": 755,
   "metadata": {
    "collapsed": false
   },
   "outputs": [],
   "source": [
    "# 训练集、测试集数据处理\n",
    "fetPos = []\n",
    "labelTraining = [] #np.zeros([len(XTrain), 155])\n",
    "loadTraining = [] #np.array(loadTraining).reshape([len(loadTraining), 1])\n",
    "labelTesting = []\n",
    "for i in range(200):\n",
    "    tempArr = np.zeros([len(XTrainList[i]), 155])\n",
    "    for j in range(len(XTrainList[i])):\n",
    "        tempArr[j], tmp = fetProcess(XTrainList[i][j])\n",
    "    labelTraining.append(tempArr)\n",
    "    loadTraining.append(np.array(loadTraingList[i]).reshape([len(loadTraingList[i]), 1]))\n",
    "    if i == 0: fetPos = tmp\n",
    "    tempTest, tmp = fetProcess(dataMedianTesting[i])\n",
    "    labelTesting.append(tempTest)\n",
    "loadTesting = np.array(conditionTesting['Payload'])"
   ]
  },
  {
   "cell_type": "code",
   "execution_count": 756,
   "metadata": {
    "collapsed": false
   },
   "outputs": [],
   "source": [
    "linregList = []\n",
    "for i in range(200):\n",
    "    regList = []\n",
    "    for j in range(np.shape(labelTraining[i])[1]):\n",
    "        linreg = LinearRegression()\n",
    "        linreg.fit(loadTraining[i], labelTraining[i][:, j].reshape([np.shape(labelTraining[i])[0], 1]))\n",
    "        regList.append(linreg)\n",
    "    linregList.append(regList)"
   ]
  },
  {
   "cell_type": "code",
   "execution_count": 757,
   "metadata": {
    "collapsed": false
   },
   "outputs": [],
   "source": [
    "m = len(loadTesting)\n",
    "n = len(labelTesting[0])\n",
    "resArr = np.zeros([m, n])\n",
    "ratArr = np.zeros([m, n])\n",
    "resArrB = np.zeros([m, int(n/5)])\n",
    "ratArrB = np.zeros([m, int(n/5)])\n",
    "yHat = np.zeros([m, n])\n",
    "for i in range(m):\n",
    "    for j in range(n):\n",
    "        loadLen = len(loadTraining[i])\n",
    "        tval = stats.t.isf(0.01 / 2, loadLen - 2)\n",
    "        yHat[i][j] = linregList[i][j].predict(loadTesting[i])\n",
    "        pstd = np.sqrt(sum((linregList[i][j].predict(loadTraining[i]) - labelTraining[i][:, j].reshape([loadLen, 1])) ** 2) / (loadLen - 2))\n",
    "        sxx = np.var(loadTraining[i]) * loadLen\n",
    "        interval = tval * pstd * np.sqrt(1 + 1 / loadLen + (loadTesting[i] - np.mean(loadTraining[i])) ** 2 / sxx)\n",
    "        resArr[i][j] = abs(yHat[i][j] - labelTesting[i][j]) / interval\n",
    "        ratArr[i][j] = abs(yHat[i][j] - labelTesting[i][j]) / yHat[i][j]\n",
    "\n",
    "for i in range(int(n/5)):\n",
    "    resArrB[:, i] = np.mean(resArr[:, 5*i:5*i+5], 1)\n",
    "    ratArrB[:, i] = np.mean(ratArr[:, 5*i:5*i+5], 1)"
   ]
  },
  {
   "cell_type": "code",
   "execution_count": 800,
   "metadata": {
    "collapsed": false
   },
   "outputs": [
    {
     "data": {
      "text/plain": [
       "array([  2,   3,   5,   6,   9,  12,  14,  15,  16,  17,  18,  19,  20,\n",
       "        21,  22,  23,  25,  26,  28,  30,  31,  32,  33,  34,  35,  36,\n",
       "        39,  40,  43,  44,  45,  46,  47,  48,  50,  51,  52,  54,  55,\n",
       "        56,  57,  59,  60,  61,  62,  63,  67,  68,  72,  80,  81,  83,\n",
       "        86,  87,  91,  92,  94,  95,  96,  98,  99, 101, 104, 105, 106,\n",
       "       107, 111, 113, 115, 116, 118, 120, 121, 122, 124, 125, 127, 128,\n",
       "       131, 132, 133, 134, 138, 139, 140, 141, 142, 144, 150, 152, 154,\n",
       "       156, 157, 160, 161, 162, 165, 167, 169, 170, 171, 173, 174, 175,\n",
       "       176, 177, 178, 179, 181, 182, 185, 186, 189, 190, 191, 197, 198])"
      ]
     },
     "execution_count": 800,
     "metadata": {},
     "output_type": "execute_result"
    }
   ],
   "source": [
    "# 所有故障测试\n",
    "np.arange(200)[resArrB.max(1) > 1]"
   ]
  },
  {
   "cell_type": "markdown",
   "metadata": {},
   "source": [
    "## 定位故障位置"
   ]
  },
  {
   "cell_type": "code",
   "execution_count": 810,
   "metadata": {
    "collapsed": false
   },
   "outputs": [],
   "source": [
    "votScore = np.zeros([200, 12])\n",
    "for i in range(200):\n",
    "    if np.max(resArrB[i]) > 1:\n",
    "        for j in range(int(resArrB.shape[1])):\n",
    "            if resArrB[i][j] > 1:\n",
    "                votScore[i][fetPos[j]] += resArrB[i][j]\n",
    "votSortIdx = np.argsort(votScore, 1)\n",
    "votSort = np.sort(votScore, 1)"
   ]
  },
  {
   "cell_type": "code",
   "execution_count": 832,
   "metadata": {
    "collapsed": false
   },
   "outputs": [],
   "source": [
    "canList = []\n",
    "canIdxList = []\n",
    "for i in range(200):\n",
    "    if votSort[i][-1] > 0 and votSort[i][-2] < 50:\n",
    "        canList.append(votSort[i])\n",
    "        canIdxList.append(i)\n",
    "\n",
    "canArr = np.array(canList)\n",
    "clu_pred = KMeans(n_clusters=2, random_state=0).fit_predict(np.concatenate((canArr[:, -2].reshape([len(canList), 1]), canArr[:, -2].reshape([len(canList), 1])), 1))\n",
    "clu_pred = list(clu_pred)\n",
    "for i in range(200):\n",
    "    if votSort[i][-2] >= 50:\n",
    "        clu_pred.append(1)\n",
    "        canIdxList.append(i)"
   ]
  },
  {
   "cell_type": "code",
   "execution_count": 833,
   "metadata": {
    "collapsed": true
   },
   "outputs": [],
   "source": [
    "# 两个部件同时发生故障的标志集合\n",
    "doubleFault = np.zeros(200)\n",
    "for i in range(len(canIdxList)):\n",
    "    if clu_pred[i] >= 1:\n",
    "        doubleFault[int(canIdxList[i])] = 1"
   ]
  },
  {
   "cell_type": "markdown",
   "metadata": {},
   "source": [
    "## 判断故障部件类型"
   ]
  },
  {
   "cell_type": "code",
   "execution_count": 837,
   "metadata": {
    "collapsed": false
   },
   "outputs": [],
   "source": [
    "comFault = np.zeros([200, 2])\n",
    "for i in range(200):\n",
    "    if np.max(votSort[i]) > 0:\n",
    "        if votSortIdx[i][-1] < 4:\n",
    "            startIdx = (votSortIdx[i][-1] // 2) * 5\n",
    "            specFault = np.argmax(resArr[i][startIdx: startIdx + 5]) + 1\n",
    "            if specFault > 3:\n",
    "                comFault[i][0] = 1\n",
    "            else:\n",
    "                comFault[i][0] = 2\n",
    "        else:\n",
    "            startIdx = (votSortIdx[i][-1] - 4) * 5 + 40\n",
    "            specFault = np.argmax(resArr[i][startIdx: startIdx + 5]) + 1\n",
    "            if specFault == 4:\n",
    "                comFault[i][0] = 1\n",
    "            else:\n",
    "                comFault[i][0] = 2\n",
    "        if doubleFault[i] == 1:\n",
    "            if votSortIdx[i][-2] < 4:\n",
    "                startIdx = (votSortIdx[i][-2] // 2) * 5\n",
    "                specFault = np.argmax(resArr[i][startIdx: startIdx + 5]) + 1\n",
    "                if specFault > 3:\n",
    "                    comFault[i][1] = 1\n",
    "                else:\n",
    "                    comFault[i][1] = 2\n",
    "            else:\n",
    "                startIdx = (votSortIdx[i][-2] - 4) * 5 + 40\n",
    "                specFault = np.argmax(resArr[i][startIdx: startIdx + 5]) + 1\n",
    "                if specFault == 4:\n",
    "                    comFault[i][1] = 1\n",
    "                else:\n",
    "                    comFault[i][1] = 2"
   ]
  },
  {
   "cell_type": "code",
   "execution_count": 874,
   "metadata": {
    "collapsed": false
   },
   "outputs": [],
   "source": [
    "# 故障类型对照字典\n",
    "comFaultDict = {1: 'czp_1r', 2: 'czp_1l', 3: 'czp_2r', 4: 'czp_2l', 5: 'dzp_1r', 6: 'dzp_1l', 7: 'dzp_2r', 8: 'dzp_2l', \\\n",
    "                9: 'czs_1', 10: 'dzs_1r', 11: 'dzs_1l', 12: 'czp_3r', 13: 'czp_3l', 14: 'czp_4r', 15: 'czp_4l', 16: 'dzp_3r', \\\n",
    "                17: 'dzp_3l', 18: 'dzp_4r', 19: 'dzp_4l', 20: 'czs_2', 21: 'dzs_2r', 22: 'dzs_2l'}"
   ]
  },
  {
   "cell_type": "code",
   "execution_count": 898,
   "metadata": {
    "collapsed": false
   },
   "outputs": [],
   "source": [
    "# 最终计算结果\n",
    "result = pd.DataFrame(comFault, index=np.arange(200), columns=['FaultPosition1', 'FaultPosition2'])\n",
    "for i in range(200):\n",
    "    result.loc[i]['FaultPosition1'] = 'None'\n",
    "    result.loc[i]['FaultPosition2'] = 'None'\n",
    "    if comFault[i][0] == 1:\n",
    "        if votSortIdx[i][-1] == 0: result.loc[i]['FaultPosition1'] = 10\n",
    "        if votSortIdx[i][-1] == 1: result.loc[i]['FaultPosition1'] = 11\n",
    "        if votSortIdx[i][-1] == 2: result.loc[i]['FaultPosition1'] = 21\n",
    "        if votSortIdx[i][-1] == 3: result.loc[i]['FaultPosition1'] = 22\n",
    "        if votSortIdx[i][-1] == 4: result.loc[i]['FaultPosition1'] = 5\n",
    "        if votSortIdx[i][-1] == 5: result.loc[i]['FaultPosition1'] = 6\n",
    "        if votSortIdx[i][-1] == 6: result.loc[i]['FaultPosition1'] = 7\n",
    "        if votSortIdx[i][-1] == 7: result.loc[i]['FaultPosition1'] = 8\n",
    "        if votSortIdx[i][-1] == 8: result.loc[i]['FaultPosition1'] = 16\n",
    "        if votSortIdx[i][-1] == 9: result.loc[i]['FaultPosition1'] = 17\n",
    "        if votSortIdx[i][-1] == 10: result.loc[i]['FaultPosition1'] = 18\n",
    "        if votSortIdx[i][-1] == 11: result.loc[i]['FaultPosition1'] = 19\n",
    "    else:\n",
    "        if comFault[i][0] == 2:\n",
    "            if votSortIdx[i][-1] == 0: result.loc[i]['FaultPosition1'] = 9\n",
    "            if votSortIdx[i][-1] == 1: result.loc[i]['FaultPosition1'] = 9\n",
    "            if votSortIdx[i][-1] == 2: result.loc[i]['FaultPosition1'] = 20\n",
    "            if votSortIdx[i][-1] == 3: result.loc[i]['FaultPosition1'] = 20\n",
    "            if votSortIdx[i][-1] == 4: result.loc[i]['FaultPosition1'] = 1\n",
    "            if votSortIdx[i][-1] == 5: result.loc[i]['FaultPosition1'] = 2\n",
    "            if votSortIdx[i][-1] == 6: result.loc[i]['FaultPosition1'] = 3\n",
    "            if votSortIdx[i][-1] == 7: result.loc[i]['FaultPosition1'] = 4\n",
    "            if votSortIdx[i][-1] == 8: result.loc[i]['FaultPosition1'] = 12\n",
    "            if votSortIdx[i][-1] == 9: result.loc[i]['FaultPosition1'] = 13\n",
    "            if votSortIdx[i][-1] == 10: result.loc[i]['FaultPosition1'] = 14\n",
    "            if votSortIdx[i][-1] == 11: result.loc[i]['FaultPosition1'] = 15\n",
    "    if comFault[i][1] == 1:\n",
    "        if votSortIdx[i][-1] == 0: result.loc[i]['FaultPosition2'] = 10\n",
    "        if votSortIdx[i][-1] == 1: result.loc[i]['FaultPosition2'] = 11\n",
    "        if votSortIdx[i][-1] == 2: result.loc[i]['FaultPosition2'] = 21\n",
    "        if votSortIdx[i][-1] == 3: result.loc[i]['FaultPosition2'] = 22\n",
    "        if votSortIdx[i][-1] == 4: result.loc[i]['FaultPosition2'] = 5\n",
    "        if votSortIdx[i][-1] == 5: result.loc[i]['FaultPosition2'] = 6\n",
    "        if votSortIdx[i][-1] == 6: result.loc[i]['FaultPosition2'] = 7\n",
    "        if votSortIdx[i][-1] == 7: result.loc[i]['FaultPosition2'] = 8\n",
    "        if votSortIdx[i][-1] == 8: result.loc[i]['FaultPosition2'] = 16\n",
    "        if votSortIdx[i][-1] == 9: result.loc[i]['FaultPosition2'] = 17\n",
    "        if votSortIdx[i][-1] == 10: result.loc[i]['FaultPosition2'] = 18\n",
    "        if votSortIdx[i][-1] == 11: result.loc[i]['FaultPosition2'] = 19\n",
    "    else:\n",
    "        if comFault[i][1] == 2:\n",
    "            if votSortIdx[i][-1] == 0: result.loc[i]['FaultPosition2'] = 9\n",
    "            if votSortIdx[i][-1] == 1: result.loc[i]['FaultPosition2'] = 9\n",
    "            if votSortIdx[i][-1] == 2: result.loc[i]['FaultPosition2'] = 20\n",
    "            if votSortIdx[i][-1] == 3: result.loc[i]['FaultPosition2'] = 20\n",
    "            if votSortIdx[i][-1] == 4: result.loc[i]['FaultPosition2'] = 1\n",
    "            if votSortIdx[i][-1] == 5: result.loc[i]['FaultPosition2'] = 2\n",
    "            if votSortIdx[i][-1] == 6: result.loc[i]['FaultPosition2'] = 3\n",
    "            if votSortIdx[i][-1] == 7: result.loc[i]['FaultPosition2'] = 4\n",
    "            if votSortIdx[i][-1] == 8: result.loc[i]['FaultPosition2'] = 12\n",
    "            if votSortIdx[i][-1] == 9: result.loc[i]['FaultPosition2'] = 13\n",
    "            if votSortIdx[i][-1] == 10: result.loc[i]['FaultPosition2'] = 14\n",
    "            if votSortIdx[i][-1] == 11: result.loc[i]['FaultPosition2'] = 15"
   ]
  },
  {
   "cell_type": "markdown",
   "metadata": {},
   "source": [
    "## 故障分类结果可视化"
   ]
  },
  {
   "cell_type": "code",
   "execution_count": 784,
   "metadata": {
    "collapsed": false
   },
   "outputs": [
    {
     "data": {
      "image/png": "[encoded data removed]",
      "text/plain": [
       "<matplotlib.figure.Figure at 0x2300517b390>"
      ]
     },
     "metadata": {},
     "output_type": "display_data"
    }
   ],
   "source": [
    "# 故障试验可视化实例：第1次测试集数据与训练集中对应数据的对比\n",
    "pltx = np.linspace(0.85, 1.3, 100)\n",
    "plty = linregList[0][4].predict(pltx.reshape([100, 1]))\n",
    "plty2 = linregList[0][4].predict(loadTraining[0].reshape([len(loadTraining[0]), 1]))\n",
    "pstd = np.sqrt(sum((plty2 - labelTraining[0][:, 4].reshape([len(loadTraining[0]), 1])) ** 2) / (len(loadTraining[0]) - 2))\n",
    "sxx = np.var(loadTraining[0]) * len(loadTraining[0])\n",
    "plt.scatter(loadTraining[0], labelTraining[0][:, 4], marker='s', c='g', label='training datasets')\n",
    "plt.plot(pltx, plty)\n",
    "plt.plot(pltx, plty + tval * pstd * np.sqrt(1 + 1/len(loadTraining[0]) + (pltx - np.mean(loadTraining[0])) ** 2 / sxx))\n",
    "plt.plot(pltx, plty - tval * pstd * np.sqrt(1 + 1/len(loadTraining[0]) + (pltx - np.mean(loadTraining[0])) ** 2 / sxx))\n",
    "plt.scatter(loadTesting[0], labelTesting[0][4], marker='*',c='r', label='test1')\n",
    "plt.xlabel('payload')\n",
    "plt.ylabel('feature_4')\n",
    "plt.title('testing1 data vs training dataset')\n",
    "plt.legend()\n",
    "plt.show()"
   ]
  },
  {
   "cell_type": "code",
   "execution_count": 783,
   "metadata": {
    "collapsed": false,
    "scrolled": true
   },
   "outputs": [
    {
     "data": {
      "image/png": "[encoded data removed]",
      "text/plain": [
       "<matplotlib.figure.Figure at 0x23007f45a20>"
      ]
     },
     "metadata": {},
     "output_type": "display_data"
    }
   ],
   "source": [
    "# 故障试验可视化实例：第17次测试集数据与训练集中对应数据的对比\n",
    "pltx = np.linspace(0.85, 1.3, 100)\n",
    "plty = linregList[16][133].predict(pltx.reshape([100, 1]))\n",
    "plty2 = linregList[16][133].predict(loadTraining[16].reshape([len(loadTraining[16]), 1]))\n",
    "pstd = np.sqrt(sum((plty2 - labelTraining[16][:, 133].reshape([len(loadTraining[16]), 1])) ** 2) / (len(loadTraining[16]) - 2))\n",
    "sxx = np.var(loadTraining[16]) * len(loadTraining[16])\n",
    "plt.scatter(loadTraining[16], labelTraining[16][:, 133], marker='s', c='g', label='training datasets')\n",
    "plt.plot(pltx, plty)\n",
    "plt.plot(pltx, plty + tval * pstd * np.sqrt(1 + 1/len(loadTraining[16]) + (pltx - np.mean(loadTraining[16])) ** 2 / sxx))\n",
    "plt.plot(pltx, plty - tval * pstd * np.sqrt(1 + 1/len(loadTraining[16]) + (pltx - np.mean(loadTraining[16])) ** 2 / sxx))\n",
    "plt.scatter(loadTesting[16], labelTesting[16][133], marker='*',c='r', label='test17')\n",
    "plt.xlabel('payload')\n",
    "plt.ylabel('feature_133')\n",
    "plt.title('testing17 data vs training datasets')\n",
    "plt.legend()\n",
    "plt.show()"
   ]
  },
  {
   "cell_type": "code",
   "execution_count": 782,
   "metadata": {
    "collapsed": false
   },
   "outputs": [
    {
     "data": {
      "image/png": "[encoded data removed]",
      "text/plain": [
       "<matplotlib.figure.Figure at 0x230055f0f28>"
      ]
     },
     "metadata": {},
     "output_type": "display_data"
    }
   ],
   "source": [
    "# 故障试验可视化实例：第17次测试集数据与最匹配的训练集中数据的对比\n",
    "plt.plot(np.arange(388), dataTraining[int(nneArr[16])].loc[:, ['f_123']], label= 'train')\n",
    "plt.plot(np.arange(50) + bestTrim[16], dataTesting[16].loc[:, ['f_123']], label= 'test')\n",
    "plt.legend()\n",
    "plt.xlabel('time')\n",
    "plt.ylabel('feature_133')\n",
    "plt.title('testing17 data vs nearest training data')\n",
    "plt.show()"
   ]
  },
  {
   "cell_type": "markdown",
   "metadata": {},
   "source": [
    "## 最终结果"
   ]
  },
  {
   "cell_type": "code",
   "execution_count": 901,
   "metadata": {
    "collapsed": false
   },
   "outputs": [
    {
     "data": {
      "text/html": [
       "<div>\n",
       "<style scoped>\n",
       "    .dataframe tbody tr th:only-of-type {\n",
       "        vertical-align: middle;\n",
       "    }\n",
       "\n",
       "    .dataframe tbody tr th {\n",
       "        vertical-align: top;\n",
       "    }\n",
       "\n",
       "    .dataframe thead th {\n",
       "        text-align: right;\n",
       "    }\n",
       "</style>\n",
       "<table border=\"1\" class=\"dataframe\">\n",
       "  <thead>\n",
       "    <tr style=\"text-align: right;\">\n",
       "      <th></th>\n",
       "      <th>FaultPosition1</th>\n",
       "      <th>FaultPosition2</th>\n",
       "    </tr>\n",
       "  </thead>\n",
       "  <tbody>\n",
       "    <tr>\n",
       "      <th>0</th>\n",
       "      <td>0.0</td>\n",
       "      <td>0.0</td>\n",
       "    </tr>\n",
       "    <tr>\n",
       "      <th>1</th>\n",
       "      <td>0.0</td>\n",
       "      <td>0.0</td>\n",
       "    </tr>\n",
       "    <tr>\n",
       "      <th>2</th>\n",
       "      <td>5.0</td>\n",
       "      <td>0.0</td>\n",
       "    </tr>\n",
       "    <tr>\n",
       "      <th>3</th>\n",
       "      <td>7.0</td>\n",
       "      <td>0.0</td>\n",
       "    </tr>\n",
       "    <tr>\n",
       "      <th>4</th>\n",
       "      <td>0.0</td>\n",
       "      <td>0.0</td>\n",
       "    </tr>\n",
       "    <tr>\n",
       "      <th>5</th>\n",
       "      <td>19.0</td>\n",
       "      <td>19.0</td>\n",
       "    </tr>\n",
       "    <tr>\n",
       "      <th>6</th>\n",
       "      <td>19.0</td>\n",
       "      <td>19.0</td>\n",
       "    </tr>\n",
       "    <tr>\n",
       "      <th>7</th>\n",
       "      <td>0.0</td>\n",
       "      <td>0.0</td>\n",
       "    </tr>\n",
       "    <tr>\n",
       "      <th>8</th>\n",
       "      <td>0.0</td>\n",
       "      <td>0.0</td>\n",
       "    </tr>\n",
       "    <tr>\n",
       "      <th>9</th>\n",
       "      <td>8.0</td>\n",
       "      <td>0.0</td>\n",
       "    </tr>\n",
       "    <tr>\n",
       "      <th>10</th>\n",
       "      <td>0.0</td>\n",
       "      <td>0.0</td>\n",
       "    </tr>\n",
       "    <tr>\n",
       "      <th>11</th>\n",
       "      <td>0.0</td>\n",
       "      <td>0.0</td>\n",
       "    </tr>\n",
       "    <tr>\n",
       "      <th>12</th>\n",
       "      <td>19.0</td>\n",
       "      <td>19.0</td>\n",
       "    </tr>\n",
       "    <tr>\n",
       "      <th>13</th>\n",
       "      <td>0.0</td>\n",
       "      <td>0.0</td>\n",
       "    </tr>\n",
       "    <tr>\n",
       "      <th>14</th>\n",
       "      <td>2.0</td>\n",
       "      <td>0.0</td>\n",
       "    </tr>\n",
       "    <tr>\n",
       "      <th>15</th>\n",
       "      <td>20.0</td>\n",
       "      <td>0.0</td>\n",
       "    </tr>\n",
       "    <tr>\n",
       "      <th>16</th>\n",
       "      <td>7.0</td>\n",
       "      <td>0.0</td>\n",
       "    </tr>\n",
       "    <tr>\n",
       "      <th>17</th>\n",
       "      <td>19.0</td>\n",
       "      <td>0.0</td>\n",
       "    </tr>\n",
       "    <tr>\n",
       "      <th>18</th>\n",
       "      <td>9.0</td>\n",
       "      <td>0.0</td>\n",
       "    </tr>\n",
       "    <tr>\n",
       "      <th>19</th>\n",
       "      <td>2.0</td>\n",
       "      <td>0.0</td>\n",
       "    </tr>\n",
       "    <tr>\n",
       "      <th>20</th>\n",
       "      <td>21.0</td>\n",
       "      <td>21.0</td>\n",
       "    </tr>\n",
       "    <tr>\n",
       "      <th>21</th>\n",
       "      <td>9.0</td>\n",
       "      <td>0.0</td>\n",
       "    </tr>\n",
       "    <tr>\n",
       "      <th>22</th>\n",
       "      <td>20.0</td>\n",
       "      <td>0.0</td>\n",
       "    </tr>\n",
       "    <tr>\n",
       "      <th>23</th>\n",
       "      <td>19.0</td>\n",
       "      <td>19.0</td>\n",
       "    </tr>\n",
       "    <tr>\n",
       "      <th>24</th>\n",
       "      <td>0.0</td>\n",
       "      <td>0.0</td>\n",
       "    </tr>\n",
       "    <tr>\n",
       "      <th>25</th>\n",
       "      <td>19.0</td>\n",
       "      <td>0.0</td>\n",
       "    </tr>\n",
       "    <tr>\n",
       "      <th>26</th>\n",
       "      <td>19.0</td>\n",
       "      <td>0.0</td>\n",
       "    </tr>\n",
       "    <tr>\n",
       "      <th>27</th>\n",
       "      <td>0.0</td>\n",
       "      <td>0.0</td>\n",
       "    </tr>\n",
       "    <tr>\n",
       "      <th>28</th>\n",
       "      <td>18.0</td>\n",
       "      <td>0.0</td>\n",
       "    </tr>\n",
       "    <tr>\n",
       "      <th>29</th>\n",
       "      <td>0.0</td>\n",
       "      <td>0.0</td>\n",
       "    </tr>\n",
       "    <tr>\n",
       "      <th>...</th>\n",
       "      <td>...</td>\n",
       "      <td>...</td>\n",
       "    </tr>\n",
       "    <tr>\n",
       "      <th>170</th>\n",
       "      <td>15.0</td>\n",
       "      <td>19.0</td>\n",
       "    </tr>\n",
       "    <tr>\n",
       "      <th>171</th>\n",
       "      <td>19.0</td>\n",
       "      <td>19.0</td>\n",
       "    </tr>\n",
       "    <tr>\n",
       "      <th>172</th>\n",
       "      <td>0.0</td>\n",
       "      <td>0.0</td>\n",
       "    </tr>\n",
       "    <tr>\n",
       "      <th>173</th>\n",
       "      <td>14.0</td>\n",
       "      <td>0.0</td>\n",
       "    </tr>\n",
       "    <tr>\n",
       "      <th>174</th>\n",
       "      <td>7.0</td>\n",
       "      <td>0.0</td>\n",
       "    </tr>\n",
       "    <tr>\n",
       "      <th>175</th>\n",
       "      <td>19.0</td>\n",
       "      <td>15.0</td>\n",
       "    </tr>\n",
       "    <tr>\n",
       "      <th>176</th>\n",
       "      <td>4.0</td>\n",
       "      <td>8.0</td>\n",
       "    </tr>\n",
       "    <tr>\n",
       "      <th>177</th>\n",
       "      <td>4.0</td>\n",
       "      <td>0.0</td>\n",
       "    </tr>\n",
       "    <tr>\n",
       "      <th>178</th>\n",
       "      <td>19.0</td>\n",
       "      <td>19.0</td>\n",
       "    </tr>\n",
       "    <tr>\n",
       "      <th>179</th>\n",
       "      <td>3.0</td>\n",
       "      <td>0.0</td>\n",
       "    </tr>\n",
       "    <tr>\n",
       "      <th>180</th>\n",
       "      <td>0.0</td>\n",
       "      <td>0.0</td>\n",
       "    </tr>\n",
       "    <tr>\n",
       "      <th>181</th>\n",
       "      <td>3.0</td>\n",
       "      <td>7.0</td>\n",
       "    </tr>\n",
       "    <tr>\n",
       "      <th>182</th>\n",
       "      <td>18.0</td>\n",
       "      <td>0.0</td>\n",
       "    </tr>\n",
       "    <tr>\n",
       "      <th>183</th>\n",
       "      <td>0.0</td>\n",
       "      <td>0.0</td>\n",
       "    </tr>\n",
       "    <tr>\n",
       "      <th>184</th>\n",
       "      <td>0.0</td>\n",
       "      <td>0.0</td>\n",
       "    </tr>\n",
       "    <tr>\n",
       "      <th>185</th>\n",
       "      <td>14.0</td>\n",
       "      <td>0.0</td>\n",
       "    </tr>\n",
       "    <tr>\n",
       "      <th>186</th>\n",
       "      <td>7.0</td>\n",
       "      <td>0.0</td>\n",
       "    </tr>\n",
       "    <tr>\n",
       "      <th>187</th>\n",
       "      <td>0.0</td>\n",
       "      <td>0.0</td>\n",
       "    </tr>\n",
       "    <tr>\n",
       "      <th>188</th>\n",
       "      <td>0.0</td>\n",
       "      <td>0.0</td>\n",
       "    </tr>\n",
       "    <tr>\n",
       "      <th>189</th>\n",
       "      <td>9.0</td>\n",
       "      <td>0.0</td>\n",
       "    </tr>\n",
       "    <tr>\n",
       "      <th>190</th>\n",
       "      <td>8.0</td>\n",
       "      <td>4.0</td>\n",
       "    </tr>\n",
       "    <tr>\n",
       "      <th>191</th>\n",
       "      <td>11.0</td>\n",
       "      <td>0.0</td>\n",
       "    </tr>\n",
       "    <tr>\n",
       "      <th>192</th>\n",
       "      <td>0.0</td>\n",
       "      <td>0.0</td>\n",
       "    </tr>\n",
       "    <tr>\n",
       "      <th>193</th>\n",
       "      <td>0.0</td>\n",
       "      <td>0.0</td>\n",
       "    </tr>\n",
       "    <tr>\n",
       "      <th>194</th>\n",
       "      <td>0.0</td>\n",
       "      <td>0.0</td>\n",
       "    </tr>\n",
       "    <tr>\n",
       "      <th>195</th>\n",
       "      <td>0.0</td>\n",
       "      <td>0.0</td>\n",
       "    </tr>\n",
       "    <tr>\n",
       "      <th>196</th>\n",
       "      <td>0.0</td>\n",
       "      <td>0.0</td>\n",
       "    </tr>\n",
       "    <tr>\n",
       "      <th>197</th>\n",
       "      <td>11.0</td>\n",
       "      <td>0.0</td>\n",
       "    </tr>\n",
       "    <tr>\n",
       "      <th>198</th>\n",
       "      <td>19.0</td>\n",
       "      <td>0.0</td>\n",
       "    </tr>\n",
       "    <tr>\n",
       "      <th>199</th>\n",
       "      <td>0.0</td>\n",
       "      <td>0.0</td>\n",
       "    </tr>\n",
       "  </tbody>\n",
       "</table>\n",
       "<p>200 rows × 2 columns</p>\n",
       "</div>"
      ],
      "text/plain": [
       "     FaultPosition1  FaultPosition2\n",
       "0               0.0             0.0\n",
       "1               0.0             0.0\n",
       "2               5.0             0.0\n",
       "3               7.0             0.0\n",
       "4               0.0             0.0\n",
       "5              19.0            19.0\n",
       "6              19.0            19.0\n",
       "7               0.0             0.0\n",
       "8               0.0             0.0\n",
       "9               8.0             0.0\n",
       "10              0.0             0.0\n",
       "11              0.0             0.0\n",
       "12             19.0            19.0\n",
       "13              0.0             0.0\n",
       "14              2.0             0.0\n",
       "15             20.0             0.0\n",
       "16              7.0             0.0\n",
       "17             19.0             0.0\n",
       "18              9.0             0.0\n",
       "19              2.0             0.0\n",
       "20             21.0            21.0\n",
       "21              9.0             0.0\n",
       "22             20.0             0.0\n",
       "23             19.0            19.0\n",
       "24              0.0             0.0\n",
       "25             19.0             0.0\n",
       "26             19.0             0.0\n",
       "27              0.0             0.0\n",
       "28             18.0             0.0\n",
       "29              0.0             0.0\n",
       "..              ...             ...\n",
       "170            15.0            19.0\n",
       "171            19.0            19.0\n",
       "172             0.0             0.0\n",
       "173            14.0             0.0\n",
       "174             7.0             0.0\n",
       "175            19.0            15.0\n",
       "176             4.0             8.0\n",
       "177             4.0             0.0\n",
       "178            19.0            19.0\n",
       "179             3.0             0.0\n",
       "180             0.0             0.0\n",
       "181             3.0             7.0\n",
       "182            18.0             0.0\n",
       "183             0.0             0.0\n",
       "184             0.0             0.0\n",
       "185            14.0             0.0\n",
       "186             7.0             0.0\n",
       "187             0.0             0.0\n",
       "188             0.0             0.0\n",
       "189             9.0             0.0\n",
       "190             8.0             4.0\n",
       "191            11.0             0.0\n",
       "192             0.0             0.0\n",
       "193             0.0             0.0\n",
       "194             0.0             0.0\n",
       "195             0.0             0.0\n",
       "196             0.0             0.0\n",
       "197            11.0             0.0\n",
       "198            19.0             0.0\n",
       "199             0.0             0.0\n",
       "\n",
       "[200 rows x 2 columns]"
      ]
     },
     "execution_count": 901,
     "metadata": {},
     "output_type": "execute_result"
    }
   ],
   "source": [
    "result"
   ]
  }
 ],
 "metadata": {
  "kernelspec": {
   "display_name": "Python 3",
   "language": "python",
   "name": "python3"
  },
  "language_info": {
   "codemirror_mode": {
    "name": "ipython",
    "version": 3
   },
   "file_extension": ".py",
   "mimetype": "text/x-python",
   "name": "python",
   "nbconvert_exporter": "python",
   "pygments_lexer": "ipython3",
   "version": "3.6.0"
  }
 },
 "nbformat": 4,
 "nbformat_minor": 2
}
