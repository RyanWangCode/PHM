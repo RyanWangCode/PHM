{
 "cells": [
  {
   "cell_type": "code",
   "execution_count": 1,
   "metadata": {
    "collapsed": false,
    "scrolled": false
   },
   "outputs": [
    {
     "name": "stdout",
     "output_type": "stream",
     "text": [
      "d:\\0python\\PHM\\CAICT2017\n"
     ]
    }
   ],
   "source": [
    "cd d:\\0python\\PHM\\CAICT2017"
   ]
  },
  {
   "cell_type": "markdown",
   "metadata": {},
   "source": [
    "## 导入包"
   ]
  },
  {
   "cell_type": "code",
   "execution_count": 2,
   "metadata": {
    "collapsed": false
   },
   "outputs": [],
   "source": [
    "import numpy as np\n",
    "import matplotlib.pyplot as plt\n",
    "import pandas as pd\n",
    "import datetime as dt\n",
    "from sklearn.neighbors import KNeighborsClassifier\n",
    "from sklearn.model_selection import cross_val_score\n",
    "from sklearn.svm import SVC\n",
    "from sklearn.model_selection import train_test_split\n",
    "import tensorflow as tf"
   ]
  },
  {
   "cell_type": "markdown",
   "metadata": {},
   "source": [
    "## 导入数据"
   ]
  },
  {
   "cell_type": "code",
   "execution_count": 3,
   "metadata": {
    "collapsed": true
   },
   "outputs": [],
   "source": [
    "dataIn15 = pd.read_csv('train/15/15_data.csv')\n",
    "normalPer15 = pd.read_csv('train/15/15_normalInfo.csv')\n",
    "failurePer15 = pd.read_csv('train/15/15_failureInfo.csv')\n",
    "timeIn15 = dataIn15['time']\n",
    "dataIn21 = pd.read_csv('train/21/21_data.csv')\n",
    "normalPer21 = pd.read_csv('train/21/21_normalInfo.csv')\n",
    "failurePer21 = pd.read_csv('train/21/21_failureInfo.csv')\n",
    "timeIn21 = dataIn21['time']\n",
    "dataIn08 = pd.read_csv('test/08/08_data.csv')"
   ]
  },
  {
   "cell_type": "code",
   "execution_count": 4,
   "metadata": {
    "collapsed": false
   },
   "outputs": [
    {
     "data": {
      "text/html": [
       "<div>\n",
       "<style scoped>\n",
       "    .dataframe tbody tr th:only-of-type {\n",
       "        vertical-align: middle;\n",
       "    }\n",
       "\n",
       "    .dataframe tbody tr th {\n",
       "        vertical-align: top;\n",
       "    }\n",
       "\n",
       "    .dataframe thead th {\n",
       "        text-align: right;\n",
       "    }\n",
       "</style>\n",
       "<table border=\"1\" class=\"dataframe\">\n",
       "  <thead>\n",
       "    <tr style=\"text-align: right;\">\n",
       "      <th></th>\n",
       "      <th>startTime</th>\n",
       "      <th>endTime</th>\n",
       "    </tr>\n",
       "  </thead>\n",
       "  <tbody>\n",
       "    <tr>\n",
       "      <th>0</th>\n",
       "      <td>2015-11-01 20:20:16</td>\n",
       "      <td>2015-11-03 23:47:32</td>\n",
       "    </tr>\n",
       "    <tr>\n",
       "      <th>1</th>\n",
       "      <td>2015-11-04 14:04:51</td>\n",
       "      <td>2015-11-04 18:26:08</td>\n",
       "    </tr>\n",
       "    <tr>\n",
       "      <th>2</th>\n",
       "      <td>2015-11-05 11:06:59</td>\n",
       "      <td>2015-11-09 02:44:31</td>\n",
       "    </tr>\n",
       "    <tr>\n",
       "      <th>3</th>\n",
       "      <td>2015-11-09 12:30:09</td>\n",
       "      <td>2015-11-09 19:23:32</td>\n",
       "    </tr>\n",
       "    <tr>\n",
       "      <th>4</th>\n",
       "      <td>2015-11-10 00:04:50</td>\n",
       "      <td>2015-11-15 23:03:06</td>\n",
       "    </tr>\n",
       "  </tbody>\n",
       "</table>\n",
       "</div>"
      ],
      "text/plain": [
       "             startTime              endTime\n",
       "0  2015-11-01 20:20:16  2015-11-03 23:47:32\n",
       "1  2015-11-04 14:04:51  2015-11-04 18:26:08\n",
       "2  2015-11-05 11:06:59  2015-11-09 02:44:31\n",
       "3  2015-11-09 12:30:09  2015-11-09 19:23:32\n",
       "4  2015-11-10 00:04:50  2015-11-15 23:03:06"
      ]
     },
     "execution_count": 4,
     "metadata": {},
     "output_type": "execute_result"
    }
   ],
   "source": [
    "normalPer15.head()"
   ]
  },
  {
   "cell_type": "markdown",
   "metadata": {},
   "source": [
    "## 数据预处理， 标记正反例"
   ]
  },
  {
   "cell_type": "code",
   "execution_count": 4,
   "metadata": {
    "collapsed": true
   },
   "outputs": [],
   "source": [
    "def dataPreProcess(data, oktime, ngtime):\n",
    "    for index, row in ngtime.iterrows():\n",
    "        data.loc[(data['time']>=row[0]) & (data['time']<=row[1]),'label']=1\n",
    "\n",
    "    for index, row in oktime.iterrows():\n",
    "        data.loc[(data['time']>=row[0]) & (data['time']<=row[1]),'label']=0"
   ]
  },
  {
   "cell_type": "code",
   "execution_count": 5,
   "metadata": {
    "collapsed": true
   },
   "outputs": [],
   "source": [
    "def dataPreProcess(dataIn, timeIn, normalPer, failurePer):\n",
    "    dataIn['label'] = -1\n",
    "    for i in range(len(timeIn)):\n",
    "        for j in range(len(normalPer)):\n",
    "            if timeIn[i] >= normalPer.loc[j]['startTime'] and timeIn[i] <= normalPer.loc[j]['endTime']:\n",
    "                dataIn['label'] = 0\n",
    "        for j in range(len(failurePer)):\n",
    "            if timeIn[i] >= failurePer.loc[j]['startTime'] and timeIn[i] <= failurePer.loc[j]['endTime']:\n",
    "                dataIn['label'] = 1\n",
    "    return dataIn"
   ]
  },
  {
   "cell_type": "code",
   "execution_count": 10,
   "metadata": {
    "collapsed": true
   },
   "outputs": [],
   "source": [
    "def featProcess(dataIn):\n",
    "    pass"
   ]
  },
  {
   "cell_type": "code",
   "execution_count": 5,
   "metadata": {
    "collapsed": false
   },
   "outputs": [],
   "source": [
    "# data15 = dataPreProcess(dataIn15, timeIn15, normalPer15, failurePer15)\n",
    "# data21 = dataPreProcess(dataIn21, timeIn21, normalPer21, failurePer21)\n",
    "dataPreProcess(dataIn15, normalPer15, failurePer15)\n",
    "dataPreProcess(dataIn21, normalPer21, failurePer21)\n",
    "label15 = dataIn15['label']\n",
    "label21 = dataIn21['label']"
   ]
  },
  {
   "cell_type": "code",
   "execution_count": 6,
   "metadata": {
    "collapsed": false
   },
   "outputs": [],
   "source": [
    "data15_1 = dataIn15[label15 == 1]\n",
    "data15_0 = dataIn15[label15 == 0]\n",
    "len_1 = len(data15_1)\n",
    "len_0 = len(data15_0)"
   ]
  },
  {
   "cell_type": "code",
   "execution_count": 7,
   "metadata": {
    "collapsed": false
   },
   "outputs": [],
   "source": [
    "data21_1 = dataIn21[label21 == 1]\n",
    "data21_0 = dataIn21[label21 == 0]\n",
    "# len_1 = len(data21_1)\n",
    "# len_0 = len(data21_0)"
   ]
  },
  {
   "cell_type": "code",
   "execution_count": 8,
   "metadata": {
    "collapsed": false
   },
   "outputs": [],
   "source": [
    "data15_0 = data15_0.sample(len_1)\n",
    "data15_0 = data15_0.loc[:, ['wind_speed', 'power', 'wind_direction', 'environment_tmp', 'label']]\n",
    "data15_1 = data15_1.loc[:, ['wind_speed', 'power', 'wind_direction', 'environment_tmp', 'label']]"
   ]
  },
  {
   "cell_type": "code",
   "execution_count": 52,
   "metadata": {
    "collapsed": false
   },
   "outputs": [
    {
     "data": {
      "text/plain": [
       "Index(['time', 'wind_speed', 'generator_speed', 'power', 'wind_direction',\n",
       "       'wind_direction_mean', 'yaw_position', 'yaw_speed', 'pitch1_angle',\n",
       "       'pitch2_angle', 'pitch3_angle', 'pitch1_speed', 'pitch2_speed',\n",
       "       'pitch3_speed', 'pitch1_moto_tmp', 'pitch2_moto_tmp', 'pitch3_moto_tmp',\n",
       "       'acc_x', 'acc_y', 'environment_tmp', 'int_tmp', 'pitch1_ng5_tmp',\n",
       "       'pitch2_ng5_tmp', 'pitch3_ng5_tmp', 'pitch1_ng5_DC', 'pitch2_ng5_DC',\n",
       "       'pitch3_ng5_DC', 'group', 'label'],\n",
       "      dtype='object')"
      ]
     },
     "execution_count": 52,
     "metadata": {},
     "output_type": "execute_result"
    }
   ],
   "source": [
    "dataIn15.columns"
   ]
  },
  {
   "cell_type": "code",
   "execution_count": 10,
   "metadata": {
    "collapsed": false
   },
   "outputs": [],
   "source": [
    "# dataIn = pd.concat([data15_0, data15_1])\n",
    "# X = dataIn.loc[:, ['wind_speed', 'power', 'wind_direction', 'environment_tmp']]\n",
    "# y = dataIn['label']\n",
    "dataIn = pd.concat([data15_0, data21_0, data15_1, data21_1])\n",
    "X = dataIn.loc[:, ['wind_speed', 'power', 'wind_direction', 'environment_tmp']]\n",
    "y = dataIn['label']"
   ]
  },
  {
   "cell_type": "code",
   "execution_count": 174,
   "metadata": {
    "collapsed": true
   },
   "outputs": [],
   "source": [
    "X_train, X_test, y_train, y_test = train_test_split(X, y, test_size=0.2)"
   ]
  },
  {
   "cell_type": "code",
   "execution_count": 8,
   "metadata": {
    "collapsed": true
   },
   "outputs": [],
   "source": [
    "data15_0 = data15_0[data15_0['power'] < 2.0]"
   ]
  },
  {
   "cell_type": "code",
   "execution_count": 9,
   "metadata": {
    "collapsed": false
   },
   "outputs": [],
   "source": [
    "data21_0 = data21_0[data21_0['power'] < 2.0]"
   ]
  },
  {
   "cell_type": "code",
   "execution_count": 11,
   "metadata": {
    "collapsed": false
   },
   "outputs": [
    {
     "data": {
      "text/plain": [
       "(515481, 4)"
      ]
     },
     "execution_count": 11,
     "metadata": {},
     "output_type": "execute_result"
    }
   ],
   "source": [
    "X.shape"
   ]
  },
  {
   "cell_type": "code",
   "execution_count": 13,
   "metadata": {
    "collapsed": false
   },
   "outputs": [
    {
     "data": {
      "image/png": "[encoded data removed]",
      "text/plain": [
       "<matplotlib.figure.Figure at 0x1ccbfa56710>"
      ]
     },
     "metadata": {},
     "output_type": "display_data"
    }
   ],
   "source": [
    "plt.scatter(data15_0['wind_speed'], data15_0['power'])\n",
    "plt.scatter(data15_1['wind_speed'], data15_1['power'])\n",
    "plt.show()"
   ]
  },
  {
   "cell_type": "code",
   "execution_count": 106,
   "metadata": {
    "collapsed": false,
    "scrolled": false
   },
   "outputs": [
    {
     "data": {
      "image/png": "[encoded data removed]",
      "text/plain": [
       "<matplotlib.figure.Figure at 0x24b4a9c05f8>"
      ]
     },
     "metadata": {},
     "output_type": "display_data"
    }
   ],
   "source": [
    "plt.scatter(data21_0['wind_speed'], data21_0['power'])\n",
    "plt.scatter(data21_1['wind_speed'], data21_1['power'])\n",
    "plt.show()"
   ]
  },
  {
   "cell_type": "code",
   "execution_count": 173,
   "metadata": {
    "collapsed": false
   },
   "outputs": [
    {
     "data": {
      "image/png": "[encoded data removed]",
      "text/plain": [
       "<matplotlib.figure.Figure at 0x24b4a205e80>"
      ]
     },
     "metadata": {},
     "output_type": "display_data"
    }
   ],
   "source": [
    "plt.scatter(X['wind_speed'], X['power'], c=y)\n",
    "plt.show()"
   ]
  },
  {
   "cell_type": "code",
   "execution_count": 22,
   "metadata": {
    "collapsed": true
   },
   "outputs": [],
   "source": [
    "svc = SVC(kernel='rbf')"
   ]
  },
  {
   "cell_type": "code",
   "execution_count": 23,
   "metadata": {
    "collapsed": false
   },
   "outputs": [
    {
     "data": {
      "text/plain": [
       "SVC(C=1.0, cache_size=200, class_weight=None, coef0=0.0,\n",
       "  decision_function_shape='ovr', degree=3, gamma='auto', kernel='rbf',\n",
       "  max_iter=-1, probability=False, random_state=None, shrinking=True,\n",
       "  tol=0.001, verbose=False)"
      ]
     },
     "execution_count": 23,
     "metadata": {},
     "output_type": "execute_result"
    }
   ],
   "source": [
    "svc.fit(X_train, y_train)"
   ]
  },
  {
   "cell_type": "code",
   "execution_count": 24,
   "metadata": {
    "collapsed": false
   },
   "outputs": [
    {
     "data": {
      "text/plain": [
       "0.86795019357538972"
      ]
     },
     "execution_count": 24,
     "metadata": {},
     "output_type": "execute_result"
    }
   ],
   "source": [
    "svc.score(X_test, y_test)"
   ]
  },
  {
   "cell_type": "code",
   "execution_count": 183,
   "metadata": {
    "collapsed": true
   },
   "outputs": [],
   "source": [
    "knn = KNeighborsClassifier(n_neighbors=5)"
   ]
  },
  {
   "cell_type": "code",
   "execution_count": 184,
   "metadata": {
    "collapsed": false
   },
   "outputs": [
    {
     "data": {
      "text/plain": [
       "KNeighborsClassifier(algorithm='auto', leaf_size=30, metric='minkowski',\n",
       "           metric_params=None, n_jobs=1, n_neighbors=5, p=2,\n",
       "           weights='uniform')"
      ]
     },
     "execution_count": 184,
     "metadata": {},
     "output_type": "execute_result"
    }
   ],
   "source": [
    "knn.fit(X_train, y_train)"
   ]
  },
  {
   "cell_type": "code",
   "execution_count": 190,
   "metadata": {
    "collapsed": false
   },
   "outputs": [
    {
     "data": {
      "text/plain": [
       "KNeighborsClassifier(algorithm='auto', leaf_size=30, metric='minkowski',\n",
       "           metric_params=None, n_jobs=1, n_neighbors=5, p=2,\n",
       "           weights='uniform')"
      ]
     },
     "execution_count": 190,
     "metadata": {},
     "output_type": "execute_result"
    }
   ],
   "source": [
    "knn = KNeighborsClassifier(n_neighbors=5)\n",
    "knn.fit(X, y)"
   ]
  },
  {
   "cell_type": "code",
   "execution_count": 192,
   "metadata": {
    "collapsed": false
   },
   "outputs": [
    {
     "data": {
      "text/plain": [
       "array([ 0.96779825,  0.96762852,  0.96881517,  0.96748145,  0.96862117,\n",
       "        0.9697124 ,  0.96917891,  0.96862117,  0.96842718,  0.96857268])"
      ]
     },
     "execution_count": 192,
     "metadata": {},
     "output_type": "execute_result"
    }
   ],
   "source": [
    "cross_val_score(knn, X_train, y_train, cv=10, scoring='accuracy')"
   ]
  },
  {
   "cell_type": "code",
   "execution_count": 69,
   "metadata": {
    "collapsed": true
   },
   "outputs": [],
   "source": [
    "y_predict = knn.predict(X_test)"
   ]
  },
  {
   "cell_type": "code",
   "execution_count": 185,
   "metadata": {
    "collapsed": false,
    "scrolled": true
   },
   "outputs": [
    {
     "data": {
      "text/plain": [
       "0.97722753550089236"
      ]
     },
     "execution_count": 185,
     "metadata": {},
     "output_type": "execute_result"
    }
   ],
   "source": [
    "knn.score(X_train, y_train)"
   ]
  },
  {
   "cell_type": "code",
   "execution_count": null,
   "metadata": {
    "collapsed": true
   },
   "outputs": [],
   "source": [
    "dataX = featProcess()\n",
    "datay =\n",
    "testX = featProcess(dataIn08)"
   ]
  },
  {
   "cell_type": "code",
   "execution_count": 194,
   "metadata": {
    "collapsed": false
   },
   "outputs": [],
   "source": [
    "k_range = range(3, 20)\n",
    "k_score = []\n",
    "for k in k_range:\n",
    "    knn = KNeighborsClassifier(n_neighbors=k)\n",
    "    k_score.append(cross_val_score(knn, X, y, cv=10, scoring='accuracy'))"
   ]
  },
  {
   "cell_type": "code",
   "execution_count": 195,
   "metadata": {
    "collapsed": false
   },
   "outputs": [],
   "source": [
    "k_mean = []\n",
    "for item in k_score:\n",
    "    k_mean.append(item.mean())"
   ]
  },
  {
   "cell_type": "code",
   "execution_count": 196,
   "metadata": {
    "collapsed": false
   },
   "outputs": [
    {
     "data": {
      "text/plain": [
       "array([ 0.93398514,  0.9678746 ,  0.94595329,  0.91179095,  0.88628075,\n",
       "        0.93984248,  0.93974548,  0.94506091,  0.95413983,  0.93049197])"
      ]
     },
     "execution_count": 196,
     "metadata": {},
     "output_type": "execute_result"
    }
   ],
   "source": [
    "k_score[10]"
   ]
  },
  {
   "cell_type": "code",
   "execution_count": 197,
   "metadata": {
    "collapsed": false
   },
   "outputs": [
    {
     "data": {
      "image/png": "[encoded data removed]",
      "text/plain": [
       "<matplotlib.figure.Figure at 0x24b53001208>"
      ]
     },
     "metadata": {},
     "output_type": "display_data"
    }
   ],
   "source": [
    "plt.plot(k_range, k_mean)\n",
    "plt.show()\n",
    "k_best = k_range[np.array(k_mean).argmax()]"
   ]
  },
  {
   "cell_type": "code",
   "execution_count": 12,
   "metadata": {
    "collapsed": false
   },
   "outputs": [],
   "source": [
    "n_inputs = 4\n",
    "n_classes = 2 \n",
    "\n",
    "X_data =tf.placeholder(tf.float32, [None, n_inputs], name='X_data')\n",
    "Y_data =tf.placeholder(tf.float32, [None, n_classes], name='Y_data')\n",
    "\n",
    "W = {\n",
    "    'w1': tf.Variable(tf.random_normal([n_inputs,12]), name='w1'),\n",
    "    'w2': tf.Variable(tf.random_normal([12,24]), name='w2'),\n",
    "    'w3': tf.Variable(tf.random_normal([24, 12]), name='w3'),\n",
    "    'w4': tf.Variable(tf.random_normal([12, 6]), name='w4'),\n",
    "    'w5': tf.Variable(tf.random_normal([6, n_classes]), name='w5'),\n",
    "}\n",
    "\n",
    "B = {\n",
    "    'b1': tf.Variable(tf.random_normal([12]), name='b1'),\n",
    "    'b2': tf.Variable(tf.random_normal([24]), name='b2'),\n",
    "    'b3': tf.Variable(tf.random_normal([12]), name='b3'),\n",
    "    'b4': tf.Variable(tf.random_normal([6]), name='b4'),\n",
    "    'b5': tf.Variable(tf.random_normal([n_classes]), name='b5'),\n",
    "}\n",
    "\n",
    "\n",
    "with tf.name_scope(\"L1\"):\n",
    "    H1 = tf.matmul(X_data, W['w1']) + B['b1'] \n",
    "    H1 = tf.nn.relu(H1)\n",
    "\n",
    "with tf.name_scope(\"L2\"):\n",
    "    H2 = tf.matmul(H1, W['w2']) + B['b2'] \n",
    "    H2 = tf.nn.relu(H2)\n",
    "    \n",
    "with tf.name_scope(\"L3\"):\n",
    "    H3 = tf.matmul(H2, W['w3']) + B['b3'] \n",
    "    H3 = tf.nn.relu(H3)\n",
    "    \n",
    "with tf.name_scope(\"L4\"):\n",
    "    H4 = tf.matmul(H3, W['w4']) + B['b4'] \n",
    "    H4 = tf.nn.relu(H4)\n",
    "    \n",
    "with tf.name_scope('L5'):\n",
    "    pred = tf.matmul(H4, W['w5']) + B['b5']\n",
    "    pred_softmax = tf.nn.softmax(pred, name=\"pred_softmax\")\n",
    "\n",
    "with tf.name_scope('loss_and_acc'):\n",
    "    correct_pred = tf.equal(tf.argmax(pred_softmax, 1), tf.argmax(Y_data, 1))\n",
    "    accuracy = tf.reduce_mean(tf.cast(correct_pred, tf.float32))\n",
    "    loss = tf.reduce_mean(tf.nn.softmax_cross_entropy_with_logits_v2(logits=pred, labels=Y_data))"
   ]
  },
  {
   "cell_type": "code",
   "execution_count": 13,
   "metadata": {
    "collapsed": true
   },
   "outputs": [],
   "source": [
    "a = tf.random_uniform([3, 2])\n",
    "init = tf.global_variables_initializer()\n",
    "sess = tf.Session()\n",
    "# merged = tf.summary.merge_all()\n",
    "writer = tf.summary.FileWriter(\"logs/\", sess.graph)\n",
    "sess.run(init)\n",
    "# sess.run(tf.local_variables_initializer())\n",
    "# sess.run(tf.equal(1, 1))\n",
    "# sess.run(a)"
   ]
  },
  {
   "cell_type": "code",
   "execution_count": 14,
   "metadata": {
    "collapsed": false
   },
   "outputs": [
    {
     "name": "stdout",
     "output_type": "stream",
     "text": [
      "0 accuracy: 0.635243 loss: 5.56904\n",
      "[ True False  True ..., False False False]\n",
      "1 accuracy: 0.9329 loss: 4.08161\n",
      "2 accuracy: 0.663393 loss: 1.82518\n",
      "3 accuracy: 0.93231 loss: 1.79136\n",
      "4 accuracy: 0.932967 loss: 0.466656\n",
      "5 accuracy: 0.93271 loss: 0.429719\n",
      "6 accuracy: 0.93308 loss: 0.411469\n",
      "7 accuracy: 0.932983 loss: 0.393096\n",
      "8 accuracy: 0.933373 loss: 0.378384\n",
      "9 accuracy: 0.932867 loss: 0.368164\n",
      "10 accuracy: 0.932593 loss: 0.362003\n",
      "[ True  True  True ..., False  True  True]\n",
      "11 accuracy: 0.932857 loss: 0.354194\n",
      "12 accuracy: 0.9331 loss: 0.345652\n",
      "13 accuracy: 0.933607 loss: 0.338958\n",
      "14 accuracy: 0.933493 loss: 0.331448\n",
      "15 accuracy: 0.933523 loss: 0.325876\n",
      "16 accuracy: 0.932713 loss: 0.323051\n",
      "17 accuracy: 0.93276 loss: 0.319117\n",
      "18 accuracy: 0.932693 loss: 0.313676\n",
      "19 accuracy: 0.932867 loss: 0.308046\n",
      "20 accuracy: 0.933183 loss: 0.301843\n",
      "[ True  True  True ...,  True  True  True]\n",
      "21 accuracy: 0.93347 loss: 0.295891\n",
      "22 accuracy: 0.933197 loss: 0.29237\n",
      "23 accuracy: 0.93269 loss: 0.291423\n",
      "24 accuracy: 0.933143 loss: 0.286312\n",
      "25 accuracy: 0.933063 loss: 0.283579\n",
      "26 accuracy: 0.932923 loss: 0.280274\n",
      "27 accuracy: 0.93293 loss: 0.277302\n",
      "28 accuracy: 0.93285 loss: 0.275539\n",
      "29 accuracy: 0.932803 loss: 0.273387\n",
      "30 accuracy: 0.93289 loss: 0.270587\n",
      "[ True  True  True ...,  True  True  True]\n",
      "31 accuracy: 0.933483 loss: 0.26742\n",
      "32 accuracy: 0.933557 loss: 0.26547\n",
      "33 accuracy: 0.93264 loss: 0.265664\n",
      "34 accuracy: 0.932787 loss: 0.264183\n",
      "35 accuracy: 0.932777 loss: 0.263205\n",
      "36 accuracy: 0.93302 loss: 0.260779\n",
      "37 accuracy: 0.93319 loss: 0.25992\n",
      "38 accuracy: 0.932747 loss: 0.259876\n",
      "39 accuracy: 0.932717 loss: 0.259267\n",
      "40 accuracy: 0.933307 loss: 0.255819\n",
      "[ True  True  True ...,  True  True  True]\n",
      "41 accuracy: 0.932913 loss: 0.257224\n",
      "42 accuracy: 0.933237 loss: 0.255693\n",
      "43 accuracy: 0.9333 loss: 0.254765\n",
      "44 accuracy: 0.933037 loss: 0.254976\n",
      "45 accuracy: 0.932707 loss: 0.254708\n",
      "46 accuracy: 0.933613 loss: 0.25241\n",
      "47 accuracy: 0.93348 loss: 0.251872\n",
      "48 accuracy: 0.93286 loss: 0.253126\n",
      "49 accuracy: 0.93316 loss: 0.251747\n",
      "50 accuracy: 0.93301 loss: 0.252162\n",
      "[ True  True  True ...,  True  True  True]\n",
      "51 accuracy: 0.932337 loss: 0.252574\n",
      "52 accuracy: 0.93288 loss: 0.251615\n",
      "53 accuracy: 0.932447 loss: 0.251756\n",
      "54 accuracy: 0.93328 loss: 0.249642\n",
      "55 accuracy: 0.93331 loss: 0.248608\n",
      "56 accuracy: 0.93274 loss: 0.249932\n",
      "57 accuracy: 0.93286 loss: 0.249614\n",
      "58 accuracy: 0.933117 loss: 0.24819\n",
      "59 accuracy: 0.93294 loss: 0.248149\n",
      "60 accuracy: 0.932683 loss: 0.24901\n",
      "[ True  True  True ...,  True  True  True]\n",
      "61 accuracy: 0.9328 loss: 0.248826\n",
      "62 accuracy: 0.932773 loss: 0.248022\n",
      "63 accuracy: 0.93298 loss: 0.246884\n",
      "64 accuracy: 0.932697 loss: 0.247153\n",
      "65 accuracy: 0.93264 loss: 0.247674\n",
      "66 accuracy: 0.933423 loss: 0.244451\n",
      "67 accuracy: 0.933063 loss: 0.245809\n",
      "68 accuracy: 0.93288 loss: 0.245345\n",
      "69 accuracy: 0.933263 loss: 0.244941\n",
      "70 accuracy: 0.932867 loss: 0.245108\n",
      "[ True  True  True ...,  True  True  True]\n",
      "71 accuracy: 0.933233 loss: 0.243591\n",
      "72 accuracy: 0.93265 loss: 0.245319\n",
      "73 accuracy: 0.93291 loss: 0.243816\n",
      "74 accuracy: 0.93314 loss: 0.243389\n",
      "75 accuracy: 0.93296 loss: 0.243243\n",
      "76 accuracy: 0.933057 loss: 0.242507\n",
      "77 accuracy: 0.932863 loss: 0.243215\n",
      "78 accuracy: 0.933247 loss: 0.241715\n",
      "79 accuracy: 0.932983 loss: 0.242202\n",
      "80 accuracy: 0.93326 loss: 0.241224\n",
      "[ True False  True ...,  True  True  True]\n",
      "81 accuracy: 0.932727 loss: 0.242064\n",
      "82 accuracy: 0.933107 loss: 0.241171\n",
      "83 accuracy: 0.932753 loss: 0.241874\n",
      "84 accuracy: 0.933323 loss: 0.239798\n",
      "85 accuracy: 0.93319 loss: 0.240165\n",
      "86 accuracy: 0.93292 loss: 0.240096\n",
      "87 accuracy: 0.933177 loss: 0.239485\n",
      "88 accuracy: 0.933217 loss: 0.23933\n",
      "89 accuracy: 0.932967 loss: 0.239266\n",
      "90 accuracy: 0.93278 loss: 0.239604\n",
      "[ True  True  True ...,  True  True  True]\n",
      "91 accuracy: 0.933367 loss: 0.238184\n",
      "92 accuracy: 0.932783 loss: 0.239059\n",
      "93 accuracy: 0.933447 loss: 0.23706\n",
      "94 accuracy: 0.933197 loss: 0.237986\n",
      "95 accuracy: 0.933037 loss: 0.23747\n",
      "96 accuracy: 0.932803 loss: 0.238349\n",
      "97 accuracy: 0.93263 loss: 0.237473\n",
      "98 accuracy: 0.9329 loss: 0.2373\n",
      "99 accuracy: 0.932677 loss: 0.237375\n"
     ]
    }
   ],
   "source": [
    "learning_rate = 0.1\n",
    "train_step = tf.train.GradientDescentOptimizer(learning_rate).minimize(loss)\n",
    "for i in range(100):\n",
    "    # training\n",
    "    rnd_idx = np.random.choice(X.shape[0], 300000, replace=False)\n",
    "    X_sample = X.iloc[rnd_idx]\n",
    "    y_sample = np.eye(2)[y.iloc[rnd_idx].values.astype(int)]\n",
    "    _, acc, loss1, corr= sess.run([train_step, accuracy, loss, correct_pred], feed_dict={X_data: X_sample, Y_data:y_sample})\n",
    "#     sess.run(train_step, feed_dict={xs: x_data, ys: y_data})\n",
    "    print(i, 'accuracy:', acc, 'loss:', loss1)\n",
    "    if i % 10 ==0:\n",
    "        print(corr)"
   ]
  }
 ],
 "metadata": {
  "kernelspec": {
   "display_name": "Python 3",
   "language": "python",
   "name": "python3"
  },
  "language_info": {
   "codemirror_mode": {
    "name": "ipython",
    "version": 3
   },
   "file_extension": ".py",
   "mimetype": "text/x-python",
   "name": "python",
   "nbconvert_exporter": "python",
   "pygments_lexer": "ipython3",
   "version": "3.6.0"
  }
 },
 "nbformat": 4,
 "nbformat_minor": 2
}
